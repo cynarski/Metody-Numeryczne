{
 "cells": [
  {
   "cell_type": "markdown",
   "metadata": {},
   "source": [
    "# <center>Laboratorium 3<br>Metody Numeryczne</center>"
   ]
  },
  {
   "cell_type": "markdown",
   "metadata": {},
   "source": [
    "Instrukcja:  \n",
    "Na zajęciach należy wykonać poniższe zadania, dokonać testu na platformie github, a następnie sporządzić sprawozdanie zawierające odpowiedzi z komentarzami."
   ]
  },
  {
   "cell_type": "markdown",
   "metadata": {},
   "source": [
    "Biblioteki niezbędne do wykonania zadania:\n",
    "\n",
    "(instalacja: \"pip install numpy scipy matplotlib memory_profiler\")"
   ]
  },
  {
   "cell_type": "code",
   "execution_count": 1,
   "metadata": {},
   "outputs": [],
   "source": [
    "import main\n",
    "\n",
    "import numpy as np\n",
    "import scipy\n",
    "import matplotlib\n",
    "import matplotlib.pyplot as plt\n",
    "\n",
    "%load_ext memory_profiler"
   ]
  },
  {
   "cell_type": "markdown",
   "metadata": {},
   "source": [
    "***Materiały przygotowujące:***\n",
    "- Standard IEEE 754 [PL](https://pl.wikipedia.org/wiki/IEEE_754) [EN](https://en.wikipedia.org/wiki/IEEE_754)\n",
    "- Liczba zmiennoprzecinkowa [PL](https://pl.wikipedia.org/wiki/Liczba_zmiennoprzecinkowa) [EN](https://en.wikipedia.org/wiki/Floating-point_arithmetic)\n",
    "- Arytmetyka zmiennoprzecinkowa [Python](https://docs.python.org/3.7/tutorial/floatingpoint.html)"
   ]
  },
  {
   "cell_type": "markdown",
   "metadata": {},
   "source": [
    "***Profilowanie kodu:***\n",
    "- [timeit](https://docs.python.org/2/library/timeit.html) - profilowanie czasu wykonywania kodu \n",
    "- [memit](https://pypi.org/project/memory-profiler/) - profilowanie pamięci zużywanej przez kod\n",
    "\n",
    "Zarówno timeit jak i memit wspierają magic command w Jupyter notebook, co obrazuje poniższy przykład:"
   ]
  },
  {
   "cell_type": "code",
   "execution_count": 3,
   "metadata": {},
   "outputs": [
    {
     "name": "stdout",
     "output_type": "stream",
     "text": [
      "SIZE:  100\n",
      "Timing: \n",
      "223 µs ± 59.4 µs per loop (mean ± std. dev. of 5 runs, 10 loops each)\n",
      "Memory usage: \n",
      "peak memory: 125.39 MiB, increment: 0.98 MiB\n",
      "\n",
      "\n",
      "SIZE:  1000\n",
      "Timing: \n",
      "23.1 ms ± 768 µs per loop (mean ± std. dev. of 5 runs, 10 loops each)\n",
      "Memory usage: \n",
      "peak memory: 140.45 MiB, increment: 15.04 MiB\n",
      "\n",
      "\n",
      "SIZE:  10000\n",
      "Timing: \n",
      "2.36 s ± 40.7 ms per loop (mean ± std. dev. of 5 runs, 10 loops each)\n",
      "Memory usage: \n",
      "peak memory: 2297.74 MiB, increment: 2172.49 MiB\n",
      "\n",
      "\n"
     ]
    }
   ],
   "source": [
    "def func(size):\n",
    "    a = np.random.random((size,size))\n",
    "    b = np.random.random((size,size))\n",
    "    c = a + b\n",
    "    return c\n",
    "\n",
    "for size in [100, 1000, 10000]:\n",
    "    print('SIZE: ', size)\n",
    "    print('Timing: ')\n",
    "    saved_timing = %timeit -r 5 -n 10 -o func(size)\n",
    "    saved_timing.average   # średni czas próby\n",
    "    saved_timing.stdev     # odchylenie standardowe\n",
    "    print('Memory usage: ')\n",
    "    %memit func(size)\n",
    "    print('\\n')"
   ]
  },
  {
   "cell_type": "markdown",
   "metadata": {},
   "source": [
    "***Zadanie 1.***  \n",
    "Zaimplementuj funkcje *p_diff*, która przyjmuje jako parametry wartości całkowite $n$ i rzeczywiste $c$ oraz zwraca różnicę (co do wartości bezwzględnej)   dwóch wyrażeń $P_1$ oraz $P_2$:  \n",
    "  \n",
    "a) $P_1 = b - b + c $  \n",
    "b) $P_2 = b + c - b $  \n",
    "  \n",
    "gdzie $b = 2^n$\n",
    "\n",
    "Analizując różnicę w otrzymanych wynikach zastosuj warotści:  \n",
    "- $n \\in \\{1,2,3... 50\\}$\n",
    "- $c \\in \\{0.1, 0.125, 0.25, 0.33, 0.5, 0.6\\}$\n",
    " \n",
    "Następnie odpowiedź i zilustruj wykresami pytania:\n",
    "\n",
    "1. Jaki wynik powinniśmy otrzymać?\n",
    "2. Które z liczb mają skończoną a które nieskończoną reprezentację?    \n",
    "3. Dlaczego wyniki się od siebie różnią?    \n",
    "4. Jaki typ błędu tutaj występuje?\n",
    "5. Czy istnieje możliwość poprawy działania tych wyrażeń, jeżeli tak to w jaki sposób?  \n"
   ]
  },
  {
   "cell_type": "code",
   "execution_count": null,
   "metadata": {},
   "outputs": [],
   "source": []
  },
  {
   "cell_type": "markdown",
   "metadata": {},
   "source": [
    "***Zadanie 2.***  \n",
    "Wartości funkcji $\\mathrm{e}^{x}$ można obliczyć w przybliżeniu z szeregu Taylora w następujący sposób:  \n",
    "  \n",
    "$\\mathrm{e}^{x} \\approx \\sum\\limits_{i=0}^{N}{\\cfrac{1}{i!}x^{i}}$ \n",
    "  \n",
    "na podstawie przedstawionych informacji zaimplementuj funkcje *exponential* która oblicza $\\mathrm{e}^{x}$ z zadaną dokładnością $N$. Porównaj działanie utworzonej funkcji z [numpy.exp](https://docs.scipy.org/doc/numpy-1.15.1/reference/generated/numpy.exp.html). Odpowiedz na pytania:  \n",
    "\n",
    "1. Jaki typ błędu obrazuje omawiany przykład?\n",
    "2. Dokonaj analizy błędów bezwzględnych i względnych w zależności od wartości $n$."
   ]
  },
  {
   "cell_type": "code",
   "execution_count": null,
   "metadata": {},
   "outputs": [],
   "source": []
  },
  {
   "cell_type": "markdown",
   "metadata": {},
   "source": [
    "***Zadania 3.***  \n",
    "Zaimplementuj 2 funkcje $coskx1$ i $coskx2$, realizujące rekurencyjnie przybliżanie wartości $cos(kx)$ w następujący sposób:\n",
    "\n",
    "- Metoda 1:         \n",
    "$cos(m+1)x = 2cosx \\cdot cos(mx) - cos(m-1)x$\n",
    "- Metoda 2:     \n",
    "$cos(mx) = cosx \\cdot cos(m-1)x - sinx \\cdot sin(m-1)x$       \n",
    "$sin(mx) = sinx \\cdot cos(m-1)x + cosx \\cdot sin(m-1)x$\n",
    "\n",
    "Następnie przeanalizuj otrzymane rezultaty dla różnych $k$.\n",
    "\n",
    "**Wskazówka** Do wyliczenia wartości $sin(x)$, $cos(x)$ (dla $k=1$) można użyć funkcji biblioteki numpy. \n",
    "Pozostałe wartości dla $k>1$ należy wyznaczyć rekurencyjnie."
   ]
  },
  {
   "cell_type": "code",
   "execution_count": null,
   "metadata": {},
   "outputs": [],
   "source": []
  },
  {
   "cell_type": "markdown",
   "metadata": {},
   "source": [
    "***Zadanie 4.***  \n",
    "Używając funkcji timeit oraz memit zbadaj czas działania oraz zużycie pamięci funkcji z Zadania 2 w zależności od różnych wartości $N$.     \n",
    "Sporządź wykresy:\n",
    "- czasu obliczenia danego przybliżenia liczby $e$ w zależności od $N$. \n",
    "W tym celu wykorzystaj funkcje [errorbar](https://matplotlib.org/3.1.1/api/_as_gen/matplotlib.pyplot.errorbar.html) oraz zwracane przez *timeit* wartości średnie oraz ich odchylenie standardowe. \n",
    "- błędu bezwzględnego przybliżenia liczby $e$ od czasu jego wykonania.\n",
    "\n",
    "\n",
    "\n",
    "**Wskazówka** Użyj opcji -o (output) dla *timeit* aby zapisać wynik do zmiennej. Opcje -r (runs) i -n (ilość pentli) decydują o ilości wykonanych prób.     \n",
    "Do wizualizacji wyników użyj skali logarytmicznej."
   ]
  },
  {
   "cell_type": "code",
   "execution_count": null,
   "metadata": {},
   "outputs": [],
   "source": []
  },
  {
   "cell_type": "code",
   "execution_count": null,
   "metadata": {},
   "outputs": [],
   "source": []
  }
 ],
 "metadata": {
  "kernelspec": {
   "display_name": "Python 3.10.8 64-bit (microsoft store)",
   "language": "python",
   "name": "python3"
  },
  "language_info": {
   "codemirror_mode": {
    "name": "ipython",
    "version": 3
   },
   "file_extension": ".py",
   "mimetype": "text/x-python",
   "name": "python",
   "nbconvert_exporter": "python",
   "pygments_lexer": "ipython3",
   "version": "3.10.8"
  },
  "vscode": {
   "interpreter": {
    "hash": "3b7e9cb8e453d6cda0fe8c8dd13f891a1f09162f0e7c66ffeae7751a7aecf00d"
   }
  }
 },
 "nbformat": 4,
 "nbformat_minor": 2
}
