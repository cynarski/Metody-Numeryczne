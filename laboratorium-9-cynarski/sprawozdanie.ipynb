{
 "cells": [
  {
   "cell_type": "markdown",
   "metadata": {},
   "source": [
    "# <center>Rozwiązywanie układów równań</center>\n",
    "# <center>Metody iteracyjne</center>"
   ]
  },
  {
   "cell_type": "markdown",
   "metadata": {},
   "source": [
    "Instrukcja:\n",
    "Na zajęciach należy wykonać poniższe zadania, a następnie sporządzić sprawozdanie zawierające odpowiedzi (w postaci kodu) z komentarzami w środowisku Jupyter Notebook i umieścić je na platformie e-learningowej.   "
   ]
  },
  {
   "cell_type": "code",
   "execution_count": 109,
   "metadata": {},
   "outputs": [],
   "source": [
    "import main\n",
    "import scipy as sp\n",
    "import numpy as np\n",
    "import scipy.sparse.linalg as sp_linalg\n",
    "import numpy.linalg as np_linalg\n",
    "import matplotlib\n",
    "import matplotlib.pyplot as plt\n",
    "\n"
   ]
  },
  {
   "cell_type": "code",
   "execution_count": 110,
   "outputs": [],
   "source": [
    "def residual_norm(A:np.ndarray,x:np.ndarray, b:np.ndarray):\n",
    "\n",
    "    if isinstance(A, np.ndarray) and isinstance(x, np.ndarray) and isinstance(b, np.ndarray):\n",
    "        if A.shape[0] == A.shape[1] and b.shape == x.shape:\n",
    "            return np.linalg.norm(b - A @ np.transpose(x))\n",
    "        else:\n",
    "            return None\n",
    "    else:\n",
    "        return None"
   ],
   "metadata": {
    "collapsed": false
   }
  },
  {
   "cell_type": "markdown",
   "metadata": {},
   "source": [
    "**Cel zajęć:**  \n",
    "Celem zajęć jest zapoznanie się z iteracyjnymi metodami rozwiązywania układów równań liniowych w postaci macierzowej. Metody iteracyjne, w przeciwieństwie do analitycznych, nie zwracają dokładnego rozwiązania, a jedynie jego przybliżenie. Przy spełnionych kryteriach, przybliżenia obliczane w kolejnych iteracjach są zbieżne do dokładnego rozwiązania. Metody iteracyjne znajdują swoje zastosowanie szczególnie przy dużych układach równań postaci: \n",
    "   \n",
    "$\n",
    "\\mathbf{Ax}=\\mathbf{b}\n",
    "$ \n",
    "  \n",
    "gdzie $\\mathbf{A}$ to macierz współczynników z lewej strony równania, wektor $\\mathbf{x}$ jest wektorem zmiennych a wektor $\\mathbf{b}$ wyników prawej strony równania.  \n",
    "\n",
    "Do oceny jakości rozwiązania będziemy wykorzystywać residuum (ang. *residual*)\n",
    "$\n",
    "\\mathbf{r}=\\mathbf{b}-\\mathbf{Ax}\n",
    "$ \n",
    "  "
   ]
  },
  {
   "source": [
    "***Zadanie 1***   \n",
    "Zdefiniuję funkcję *diag_dominant_matrix_A_b*, przyjmującą paramter całkowity $m>0$ która zwróci:\n",
    "- macierz diagonalnie zdominowana $\\mathbf{A}$ o wymiarach $m \\times m$ (wyrazy na przekątnej sa wieksze co do modułu od sumy pozostałych w danej kolumnie i wierszu)\n",
    "- wektor $\\mathbf{b}$ o wymiarach $m \\times 1$ \n",
    " \n",
    "o losowych wartościach całkowitych\n",
    "\n",
    "Dodatkowo zdefiniuj funkcje *is_diag_dominant* sprawdzającą czy zadana macierz jest diagonalnie zdominowana"
   ],
   "cell_type": "markdown",
   "metadata": {}
  },
  {
   "cell_type": "code",
   "execution_count": 111,
   "outputs": [
    {
     "name": "stdout",
     "output_type": "stream",
     "text": [
      "[[270  69  70]\n",
      " [ 11 426  54]\n",
      " [  6  22 434]]\n",
      "[2 6 2]\n",
      "True\n"
     ]
    }
   ],
   "source": [
    "A,b = main.diag_dominant_matrix_A_b(3)\n",
    "print(A)\n",
    "print(b)\n",
    "\n",
    "print(main.is_diag_dominant(A))"
   ],
   "metadata": {
    "collapsed": false
   }
  },
  {
   "source": [
    "***Zadanie 2***   \n",
    "Zdefiniuję funkcję *symmetric_matrix_A_b*, przyjmującą paramter całkowity $m>0$ która zwróci:\n",
    "- symetryczną macierz $\\mathbf{A}$ o wymiarach $m \\times m$ (wyrazy symetryczne względnej przekątnej są sobie równe)\n",
    "- wektor $\\mathbf{b}$ o wymiarach $m \\times 1$ \n",
    " \n",
    "o losowych wartościach całkowitych\n",
    "\n",
    "Dodatkowo zdefiniuj funkcje is_symmetric sprawdzającą czy zadana macierz jest symetryczna"
   ],
   "cell_type": "markdown",
   "metadata": {}
  },
  {
   "cell_type": "code",
   "execution_count": 112,
   "outputs": [
    {
     "name": "stdout",
     "output_type": "stream",
     "text": [
      "[[12  3  7]\n",
      " [ 3  6  3]\n",
      " [ 7  3  6]]\n",
      "[5 0 0]\n",
      "True\n"
     ]
    }
   ],
   "source": [
    "A,b = main.symmetric_matrix_A_b(3)\n",
    "print(A)\n",
    "print(b)\n",
    "print(main.is_symmetric(A))"
   ],
   "metadata": {
    "collapsed": false
   }
  },
  {
   "source": [
    "***Zadanie 3***   \n",
    "Zdefiniuję następujące układy równań:\n",
    "\n",
    "a) $\\mathbf{A_1}$, $\\mathbf{b_1}$: gdzie $\\mathbf{A_1}$ jest macierzą o wymiarach $m \\times m$, a $\\mathbf{b_1}$ wektorem $m \\times 1$, $m = 10$\n",
    "\n",
    "b) $\\mathbf{A_2}$, $\\mathbf{b_2}$: gdzie $\\mathbf{A_2}$ jest macierzą **diagonalnie zdominowaną** o wymiarach$m \\times m$, a $\\mathbf{b_2}$ wektorem $m \\times 1$, $m = 10$\n",
    " \n",
    "c) $\\mathbf{A_3}$, $\\mathbf{b_3}$: gdzie $\\mathbf{A_3}$ jest macierzą **symetryczną** o wymiarach $m \\times m$, a $\\mathbf{b_3}$ wektorem $m \\times 1$, $m = 10$   \n",
    " \n",
    "**Wskazówka**: Do generacji macierzy użyj metody *random_matrix_Ab* z lab6 oraz metod *diag_dominant_matrix_A_b* i *symmetric_matrix_A_b*"
   ],
   "cell_type": "markdown",
   "metadata": {}
  },
  {
   "cell_type": "code",
   "execution_count": 113,
   "outputs": [],
   "source": [
    "m = 10\n",
    "\n",
    "A1, b1 = main.random_matrix_Ab(m)\n",
    "A2, b2 = main.diag_dominant_matrix_A_b(m)\n",
    "A3, b3 = main.symmetric_matrix_A_b(m)"
   ],
   "metadata": {
    "collapsed": false
   }
  },
  {
   "source": [
    "***Zadanie 4***   \n",
    "Zaimplementuj iteracyjną metodę *solve_jacobi*, rozwiązującą układ równań metodą Jacobiego zgodnie z dokumentacją w pliku *main.py*.\n",
    "Szczegóły metody zostały przedstawione na wykładzie."
   ],
   "cell_type": "markdown",
   "metadata": {}
  },
  {
   "source": [
    "***Zadanie 5***   \n",
    "Rozwiąż układ równań z Zadania 3 podpunkt a) przy pomocy:\n",
    "\n",
    "- funkcji *[solve](https://docs.scipy.org/doc/numpy-1.15.1/reference/generated/numpy.linalg.solve.html?highlight=solve#numpy.linalg.solve)* z biblioteki numpy\n",
    "\n",
    "- zaimplementowanej iteracyjnej metody *solve_jacobi*\n",
    "\n",
    "- iteracyjnej metody *[gradientów sprzężonych](https://docs.scipy.org/doc/scipy/reference/generated/scipy.sparse.linalg.cg.html)*\n",
    " z biblioteki scipy\n",
    "\n",
    "- iteracyjnej metody *[GMRES](https://docs.scipy.org/doc/scipy/reference/generated/scipy.sparse.linalg.gmres.html)*\n",
    " z biblioteki scipy\n",
    "\n",
    "Przed każdą metodą sprawdź czy warunki dotyczące macierzy dla danej metody są spełnione. Zbadaj dokładność i czas obliczeń metod w zależności od liczby iteracji. Wyniki przedstaw na wykresach."
   ],
   "cell_type": "markdown",
   "metadata": {}
  },
  {
   "cell_type": "markdown",
   "source": [
    "**funkcji solve z biblioteki numpy**"
   ],
   "metadata": {
    "collapsed": false
   }
  },
  {
   "cell_type": "code",
   "execution_count": 114,
   "outputs": [
    {
     "name": "stdout",
     "output_type": "stream",
     "text": [
      "[ 2.44561924 -1.08238196 -1.920751    0.9821975  -0.6309135  -0.60958589\n",
      " -0.13251756  1.68406903 -2.12110641  1.9626584 ]\n",
      "5.6415482394184e-13\n",
      "7.77 µs ± 1.35 µs per loop (mean ± std. dev. of 5 runs, 10 loops each)\n"
     ]
    }
   ],
   "source": [
    "label = ['solve','jacobi','gradienty','gmres']\n",
    "times = []\n",
    "residuum = []\n",
    "if A1.shape[0] == A1.shape[1]:\n",
    "    result_solve = np.linalg.solve(A1,b1)\n",
    "    print(result_solve)\n",
    "    residuum_solve = residual_norm(A1,result_solve,b1)\n",
    "    print(residuum_solve)\n",
    "    residuum.append(residuum_solve)\n",
    "    saved_timing = %timeit -r 5 -n 10 -o result = np.linalg.solve(A1,b1)\n",
    "    times.append(saved_timing.average)"
   ],
   "metadata": {
    "collapsed": false
   }
  },
  {
   "cell_type": "markdown",
   "source": [
    "**solve jacobi**"
   ],
   "metadata": {
    "collapsed": false
   }
  },
  {
   "cell_type": "code",
   "execution_count": 115,
   "outputs": [
    {
     "name": "stdout",
     "output_type": "stream",
     "text": [
      "Macierz nie spełnia warunków\n",
      "[-4.48094299e+215 -6.09176983e+216 -1.10271028e+216 -2.37458528e+217\n",
      " -2.80803071e+217 -4.21888605e+215 -7.15672149e+217 -6.19500512e+215\n",
      " -1.75576882e+216 -6.72909274e+215]\n",
      "inf\n",
      "938 µs ± 325 µs per loop (mean ± std. dev. of 5 runs, 10 loops each)\n"
     ]
    }
   ],
   "source": [
    "if main.is_diag_dominant(A1):\n",
    "    print('Macierz spełnia warunki')\n",
    "else:\n",
    "    print('Macierz nie spełnia warunków')\n",
    "\n",
    "x = np.zeros(b1.shape)\n",
    "jac_solve = main.solve_jacobi(A1,b1,x)\n",
    "print(jac_solve[0])\n",
    "residuum_jac = residual_norm(A1,jac_solve[0],b1)\n",
    "print(residuum_jac)\n",
    "residuum.append(residuum_jac)\n",
    "saved_timing_jac = %timeit -r 5 -n 10 -o result = main.solve_jacobi(A1,b1,x)\n",
    "times.append(saved_timing_jac.average)\n",
    "\n"
   ],
   "metadata": {
    "collapsed": false
   }
  },
  {
   "cell_type": "markdown",
   "source": [
    "**metoda gradientów sprzężonych**"
   ],
   "metadata": {
    "collapsed": false
   }
  },
  {
   "cell_type": "code",
   "execution_count": 116,
   "outputs": [
    {
     "name": "stdout",
     "output_type": "stream",
     "text": [
      "Macierz nie spełnia warunków\n",
      "[-4.08122230e+08 -2.08041225e+08 -2.08425283e+08  2.91689129e+08\n",
      " -7.04496349e+08 -1.17439359e+08  2.21667133e+08  4.76306483e+08\n",
      "  8.16372357e+08 -4.48144063e+08]\n",
      "443784782477.89136\n",
      "1.78 ms ± 108 µs per loop (mean ± std. dev. of 5 runs, 10 loops each)\n"
     ]
    }
   ],
   "source": [
    "if main.is_symmetric(A1):\n",
    "    print('Macierz spełnia warunki')\n",
    "else:\n",
    "    print('Macierz nie spełnia warunków')\n",
    "\n",
    "gradienty = sp_linalg.cg(A1,b1)\n",
    "print(gradienty[0])\n",
    "residuum_gra = residual_norm(A1,gradienty[0],b1)\n",
    "print(residuum_gra)\n",
    "residuum.append(residuum_gra)\n",
    "saved_timing_gra = %timeit -r 5 -n 10 -o result = sp_linalg.cg(A1,b1)\n",
    "times.append(saved_timing_gra.average)\n"
   ],
   "metadata": {
    "collapsed": false
   }
  },
  {
   "cell_type": "markdown",
   "source": [
    "**GMRES z biblioteki scipy**"
   ],
   "metadata": {
    "collapsed": false
   }
  },
  {
   "cell_type": "code",
   "execution_count": 117,
   "outputs": [
    {
     "name": "stdout",
     "output_type": "stream",
     "text": [
      "[ 2.44561924 -1.08238196 -1.920751    0.9821975  -0.6309135  -0.60958589\n",
      " -0.13251756  1.68406903 -2.12110641  1.9626584 ]\n",
      "1.1113578918876301e-12\n",
      "9.41 µs ± 1.39 µs per loop (mean ± std. dev. of 5 runs, 10 loops each)\n"
     ]
    }
   ],
   "source": [
    "if A1.shape[0] == A1.shape[1]:\n",
    "    result_gmres = sp_linalg.gmres(A1,b1)\n",
    "    print(result_gmres[0])\n",
    "    residuum_gmres = residual_norm(A1,result_gmres[0],b1)\n",
    "    print(residuum_gmres)\n",
    "    residuum.append(residuum_gmres)\n",
    "    saved_timing = %timeit -r 5 -n 10 -o result = np.linalg.solve(A1,b1)\n",
    "    times.append(saved_timing.average)"
   ],
   "metadata": {
    "collapsed": false
   }
  },
  {
   "cell_type": "code",
   "execution_count": 118,
   "outputs": [
    {
     "data": {
      "text/plain": "<Figure size 480x360 with 1 Axes>",
      "image/png": "[encoded data removed]"
     },
     "metadata": {},
     "output_type": "display_data"
    },
    {
     "data": {
      "text/plain": "<Figure size 480x360 with 1 Axes>",
      "image/png": "[encoded data removed]"
     },
     "metadata": {},
     "output_type": "display_data"
    }
   ],
   "source": [
    "plt.figure(figsize=(8, 6), dpi=60)\n",
    "plt.scatter(label,residuum)\n",
    "plt.title(\"Porównanie normy residuum dla poszczególnych metod\")\n",
    "plt.ylabel(\"Norma residuum\")\n",
    "plt.xlabel(\"Metoda\")\n",
    "plt.semilogy()\n",
    "plt.grid()\n",
    "plt.show()\n",
    "\n",
    "plt.figure(figsize=(8, 6), dpi=60)\n",
    "plt.scatter(label,times)\n",
    "plt.title(\"Porównanie czasów wykonania danej metody\")\n",
    "plt.ylabel(\"Czas\")\n",
    "plt.xlabel(\"Metoda\")\n",
    "plt.grid()\n",
    "plt.semilogy()\n",
    "plt.show()"
   ],
   "metadata": {
    "collapsed": false
   }
  },
  {
   "cell_type": "code",
   "execution_count": 119,
   "outputs": [
    {
     "data": {
      "text/plain": "<Figure size 480x360 with 1 Axes>",
      "image/png": "[encoded data removed]"
     },
     "metadata": {},
     "output_type": "display_data"
    }
   ],
   "source": [
    "iterations = [1,jac_solve[1],gradienty[1],result_gmres[1]]\n",
    "plt.figure(figsize=(8, 6), dpi=60)\n",
    "plt.scatter(label,iterations)\n",
    "plt.title(\"Porównanie liczby iteracji dla danej metody\")\n",
    "plt.ylabel(\"Liczba iteracji\")\n",
    "plt.xlabel(\"Metoda\")\n",
    "plt.grid()\n",
    "plt.show()"
   ],
   "metadata": {
    "collapsed": false
   }
  },
  {
   "source": [
    "***Zadanie 6***     \n",
    "Rozwiąż układ równań z Zadania 3 podpunkt b) przy pomocy:\n",
    "\n",
    "- funkcji *[solve](https://docs.scipy.org/doc/numpy-1.15.1/reference/generated/numpy.linalg.solve.html?highlight=solve#numpy.linalg.solve)* z biblioteki numpy\n",
    "\n",
    "- zaimplementowanej iteracyjnej metody *solve_jacobi*\n",
    "\n",
    "- iteracyjnej metody *[gradientów sprzężonych](https://docs.scipy.org/doc/scipy/reference/generated/scipy.sparse.linalg.cg.html)*\n",
    " z biblioteki scipy\n",
    "\n",
    "- iteracyjnej metody *[GMRES](https://docs.scipy.org/doc/scipy/reference/generated/scipy.sparse.linalg.gmres.html)*\n",
    " z biblioteki scipy\n",
    "\n",
    "Przed każdą metodą sprawdź czy warunki dotyczące macierzy dla danej metody są spełnione. Zbadaj dokładność i czas obliczeń metod w zależności od liczby iteracji. Wyniki przedstaw na wykresach."
   ],
   "cell_type": "markdown",
   "metadata": {}
  },
  {
   "cell_type": "markdown",
   "source": [
    "**funkcji solve z biblioteki numpy**"
   ],
   "metadata": {
    "collapsed": false
   }
  },
  {
   "cell_type": "code",
   "execution_count": 120,
   "outputs": [
    {
     "name": "stdout",
     "output_type": "stream",
     "text": [
      "[ 7.45477231e-05  2.85716847e-03 -7.48635886e-04  2.52612817e-03\n",
      "  5.10893296e-04  2.71757807e-03  3.17891980e-03 -5.58291353e-04\n",
      " -6.85258307e-04  4.64113902e-03]\n",
      "1.5435101196479472e-15\n",
      "11.9 µs ± 6.69 µs per loop (mean ± std. dev. of 5 runs, 10 loops each)\n"
     ]
    }
   ],
   "source": [
    "label = ['solve','jacobi','gradienty','gmres']\n",
    "times = []\n",
    "residuum = []\n",
    "if A2.shape[0] == A2.shape[1]:\n",
    "    result_solve = np.linalg.solve(A2,b2)\n",
    "    print(result_solve)\n",
    "    residuum_solve = residual_norm(A2,result_solve,b2)\n",
    "    print(residuum_solve)\n",
    "    residuum.append(residuum_solve)\n",
    "    saved_timing = %timeit -r 5 -n 10 -o result = np.linalg.solve(A2,b2)\n",
    "    times.append(saved_timing.average)"
   ],
   "metadata": {
    "collapsed": false
   }
  },
  {
   "cell_type": "markdown",
   "source": [
    "**solve jacobi**"
   ],
   "metadata": {
    "collapsed": false
   }
  },
  {
   "cell_type": "code",
   "execution_count": 121,
   "outputs": [
    {
     "name": "stdout",
     "output_type": "stream",
     "text": [
      "Macierz spełnia warunki\n",
      "[ 7.45472174e-05  2.85716812e-03 -7.48636416e-04  2.52612767e-03\n",
      "  5.10892804e-04  2.71757751e-03  3.17891929e-03 -5.58291847e-04\n",
      " -6.85258825e-04  4.64113862e-03]\n",
      "2.4361980840872286e-06\n",
      "145 µs ± 10.2 µs per loop (mean ± std. dev. of 5 runs, 10 loops each)\n"
     ]
    }
   ],
   "source": [
    "if main.is_diag_dominant(A2):\n",
    "    print('Macierz spełnia warunki')\n",
    "else:\n",
    "    print('Macierz nie spełnia warunków')\n",
    "\n",
    "x = np.zeros(b2.shape)\n",
    "jac_solve = main.solve_jacobi(A2,b2,x)\n",
    "print(jac_solve[0])\n",
    "residuum_jac = residual_norm(A2,jac_solve[0],b2)\n",
    "print(residuum_jac)\n",
    "residuum.append(float(residuum_jac))\n",
    "saved_timing_jac = %timeit -r 5 -n 10 -o result = main.solve_jacobi(A2,b2,x)\n",
    "times.append(saved_timing_jac.average)"
   ],
   "metadata": {
    "collapsed": false
   }
  },
  {
   "cell_type": "markdown",
   "source": [
    "**metoda gradientów sprzężonych**"
   ],
   "metadata": {
    "collapsed": false
   }
  },
  {
   "cell_type": "code",
   "execution_count": 122,
   "outputs": [
    {
     "name": "stdout",
     "output_type": "stream",
     "text": [
      "Macierz nie spełnia warunków\n",
      "[ 7.45590938e-05  2.85716399e-03 -7.48635062e-04  2.52613439e-03\n",
      "  5.10871769e-04  2.71758316e-03  3.17892194e-03 -5.58282963e-04\n",
      " -6.85259084e-04  4.64111911e-03]\n",
      "3.698284768650343e-05\n",
      "223 µs ± 13.6 µs per loop (mean ± std. dev. of 5 runs, 10 loops each)\n"
     ]
    }
   ],
   "source": [
    "if main.is_symmetric(A2):\n",
    "    print('Macierz spełnia warunki')\n",
    "else:\n",
    "    print('Macierz nie spełnia warunków')\n",
    "\n",
    "gradienty = sp_linalg.cg(A2,b2)\n",
    "print(gradienty[0])\n",
    "residuum_gra = residual_norm(A2,gradienty[0],b2)\n",
    "print(residuum_gra)\n",
    "residuum.append(residuum_gra)\n",
    "saved_timing_gra = %timeit -r 5 -n 10 -o result = sp_linalg.cg(A2,b2)\n",
    "times.append(saved_timing_gra.average)\n"
   ],
   "metadata": {
    "collapsed": false
   }
  },
  {
   "cell_type": "markdown",
   "source": [
    "**GMRES z biblioteki scipy**"
   ],
   "metadata": {
    "collapsed": false
   }
  },
  {
   "cell_type": "code",
   "execution_count": 123,
   "outputs": [
    {
     "name": "stdout",
     "output_type": "stream",
     "text": [
      "[ 7.45602237e-05  2.85717242e-03 -7.48632846e-04  2.52612931e-03\n",
      "  5.10902179e-04  2.71756679e-03  3.17892261e-03 -5.58288612e-04\n",
      " -6.85273794e-04  4.64113686e-03]\n",
      "2.3587149278561632e-05\n",
      "8.48 µs ± 1.26 µs per loop (mean ± std. dev. of 5 runs, 10 loops each)\n"
     ]
    }
   ],
   "source": [
    "if A2.shape[0] == A2.shape[1]:\n",
    "    result_gmres = sp_linalg.gmres(A2,b2)\n",
    "    print(result_gmres[0])\n",
    "    residuum_gmres = residual_norm(A2,result_gmres[0],b2)\n",
    "    print(residuum_gmres)\n",
    "    residuum.append(residuum_gmres)\n",
    "    saved_timing = %timeit -r 5 -n 10 -o result = np.linalg.solve(A2,b2)\n",
    "    times.append(saved_timing.average)"
   ],
   "metadata": {
    "collapsed": false
   }
  },
  {
   "cell_type": "code",
   "execution_count": 124,
   "outputs": [
    {
     "data": {
      "text/plain": "<Figure size 480x360 with 1 Axes>",
      "image/png": "[encoded data removed]"
     },
     "metadata": {},
     "output_type": "display_data"
    },
    {
     "data": {
      "text/plain": "<Figure size 480x360 with 1 Axes>",
      "image/png": "[encoded data removed]"
     },
     "metadata": {},
     "output_type": "display_data"
    },
    {
     "data": {
      "text/plain": "<Figure size 480x360 with 1 Axes>",
      "image/png": "[encoded data removed]"
     },
     "metadata": {},
     "output_type": "display_data"
    }
   ],
   "source": [
    "plt.figure(figsize=(8, 6), dpi=60)\n",
    "plt.scatter(label,residuum)\n",
    "plt.title(\"Porównanie normy residuum dla poszczególnych metod\")\n",
    "plt.ylabel(\"Norma residuum\")\n",
    "plt.xlabel(\"Metoda\")\n",
    "plt.semilogy()\n",
    "plt.grid()\n",
    "plt.show()\n",
    "\n",
    "plt.figure(figsize=(8, 6), dpi=60)\n",
    "plt.scatter(label,times)\n",
    "plt.title(\"Porównanie czasów wykonania danej metody\")\n",
    "plt.ylabel(\"Czas\")\n",
    "plt.xlabel(\"Metoda\")\n",
    "plt.grid()\n",
    "plt.semilogy()\n",
    "plt.show()\n",
    "\n",
    "iterations = [1,jac_solve[1],gradienty[1],result_gmres[1]]\n",
    "plt.figure(figsize=(8, 6), dpi=60)\n",
    "plt.scatter(label,iterations)\n",
    "plt.title(\"Porównanie liczby iteracji dla danej metody\")\n",
    "plt.ylabel(\"Liczba iteracji\")\n",
    "plt.xlabel(\"Metoda\")\n",
    "plt.grid()\n",
    "plt.show()"
   ],
   "metadata": {
    "collapsed": false
   }
  },
  {
   "source": [
    "***Zadanie 7***   \n",
    "Rozwiąż układ równań z Zadania 3 podpunkt c) przy pomocy:\n",
    "\n",
    "- funkcji *[solve](https://docs.scipy.org/doc/numpy-1.15.1/reference/generated/numpy.linalg.solve.html?highlight=solve#numpy.linalg.solve)* z biblioteki numpy\n",
    "\n",
    "- zaimplementowanej iteracyjnej metody *solve_jacobi*\n",
    "\n",
    "- iteracyjnej metody *[gradientów sprzężonych](https://docs.scipy.org/doc/scipy/reference/generated/scipy.sparse.linalg.cg.html)*\n",
    " z biblioteki scipy\n",
    "\n",
    "- iteracyjnej metody *[GMRES](https://docs.scipy.org/doc/scipy/reference/generated/scipy.sparse.linalg.gmres.html)*\n",
    " z biblioteki scipy\n",
    "\n",
    "Przed każdą metodą sprawdź czy warunki dotyczące macierzy dla danej metody są spełnione. Zbadaj dokładność i czas obliczeń metod w zależności od liczby iteracji. Wyniki przedstaw na wykresach."
   ],
   "cell_type": "markdown",
   "metadata": {}
  },
  {
   "cell_type": "markdown",
   "source": [],
   "metadata": {
    "collapsed": false
   }
  },
  {
   "cell_type": "code",
   "execution_count": 125,
   "outputs": [
    {
     "name": "stdout",
     "output_type": "stream",
     "text": [
      "[ 2.54455729 -0.92995904  0.48715508 -0.65701888  1.1064029  -1.21722284\n",
      " -1.01065652 -0.42553777 -0.22281437  0.56916976]\n",
      "1.0480881692492569e-14\n",
      "8.58 µs ± 861 ns per loop (mean ± std. dev. of 5 runs, 10 loops each)\n",
      "Macierz nie spełnia warunków\n",
      "[-3.14166948e+117 -5.28537817e+117 -4.13300142e+117 -4.13799485e+117\n",
      " -2.10489731e+117 -1.43517239e+118 -1.97230100e+117 -1.05482205e+118\n",
      " -1.16508399e+118 -6.08085639e+117]\n",
      "1.4707635187633155e+120\n",
      "766 µs ± 83 µs per loop (mean ± std. dev. of 5 runs, 10 loops each)\n",
      "Macierz spełnia warunki\n",
      "[ 2.5445573  -0.92995904  0.48715508 -0.65701888  1.1064029  -1.21722284\n",
      " -1.01065651 -0.42553777 -0.22281437  0.56916976]\n",
      "6.419445108500679e-07\n",
      "239 µs ± 9.83 µs per loop (mean ± std. dev. of 5 runs, 10 loops each)\n",
      "[ 2.54455729 -0.92995904  0.48715508 -0.65701888  1.1064029  -1.21722284\n",
      " -1.01065652 -0.42553777 -0.22281437  0.56916976]\n",
      "1.7835586898960545e-14\n",
      "7.6 µs ± 1.2 µs per loop (mean ± std. dev. of 5 runs, 10 loops each)\n"
     ]
    }
   ],
   "source": [
    "label = ['solve','jacobi','gradienty','gmres']\n",
    "times = []\n",
    "residuum = []\n",
    "if A3.shape[0] == A3.shape[1]:\n",
    "    result_solve = np.linalg.solve(A3,b3)\n",
    "    print(result_solve)\n",
    "    residuum_solve = residual_norm(A3,result_solve,b3)\n",
    "    print(residuum_solve)\n",
    "    residuum.append(residuum_solve)\n",
    "    saved_timing = %timeit -r 5 -n 10 -o result = np.linalg.solve(A3,b3)\n",
    "    times.append(saved_timing.average)\n",
    "\n",
    "if main.is_diag_dominant(A3):\n",
    "    print('Macierz spełnia warunki')\n",
    "else:\n",
    "    print('Macierz nie spełnia warunków')\n",
    "\n",
    "x = np.zeros(b3.shape)\n",
    "jac_solve = main.solve_jacobi(A3,b3,x)\n",
    "print(jac_solve[0])\n",
    "residuum_jac = residual_norm(A3,jac_solve[0],b3)\n",
    "print(residuum_jac)\n",
    "residuum.append(float(residuum_jac))\n",
    "saved_timing_jac = %timeit -r 5 -n 10 -o result = main.solve_jacobi(A3,b3,x)\n",
    "times.append(saved_timing_jac.average)\n",
    "\n",
    "if main.is_symmetric(A3):\n",
    "    print('Macierz spełnia warunki')\n",
    "else:\n",
    "    print('Macierz nie spełnia warunków')\n",
    "\n",
    "gradienty = sp_linalg.cg(A3,b3)\n",
    "print(gradienty[0])\n",
    "residuum_gra = residual_norm(A3,gradienty[0],b3)\n",
    "print(residuum_gra)\n",
    "residuum.append(residuum_gra)\n",
    "saved_timing_gra = %timeit -r 5 -n 10 -o result = sp_linalg.cg(A3,b3)\n",
    "times.append(saved_timing_gra.average)\n",
    "\n",
    "if A3.shape[0] == A3.shape[1]:\n",
    "    result_gmres = sp_linalg.gmres(A3,b3)\n",
    "    print(result_gmres[0])\n",
    "    residuum_gmres = residual_norm(A3,result_gmres[0],b3)\n",
    "    print(residuum_gmres)\n",
    "    residuum.append(residuum_gmres)\n",
    "    saved_timing = %timeit -r 5 -n 10 -o result = np.linalg.solve(A3,b3)\n",
    "    times.append(saved_timing.average)"
   ],
   "metadata": {
    "collapsed": false
   }
  },
  {
   "cell_type": "code",
   "execution_count": 126,
   "outputs": [
    {
     "data": {
      "text/plain": "<Figure size 480x360 with 1 Axes>",
      "image/png": "[encoded data removed]"
     },
     "metadata": {},
     "output_type": "display_data"
    },
    {
     "data": {
      "text/plain": "<Figure size 480x360 with 1 Axes>",
      "image/png": "[encoded data removed]"
     },
     "metadata": {},
     "output_type": "display_data"
    },
    {
     "data": {
      "text/plain": "<Figure size 480x360 with 1 Axes>",
      "image/png": "[encoded data removed]"
     },
     "metadata": {},
     "output_type": "display_data"
    }
   ],
   "source": [
    "plt.figure(figsize=(8, 6), dpi=60)\n",
    "plt.scatter(label,residuum)\n",
    "plt.title(\"Porównanie normy residuum dla poszczególnych metod\")\n",
    "plt.ylabel(\"Norma residuum\")\n",
    "plt.xlabel(\"Metoda\")\n",
    "plt.semilogy()\n",
    "plt.grid()\n",
    "plt.show()\n",
    "\n",
    "plt.figure(figsize=(8, 6), dpi=60)\n",
    "plt.scatter(label,times)\n",
    "plt.title(\"Porównanie czasów wykonania danej metody\")\n",
    "plt.ylabel(\"Czas\")\n",
    "plt.xlabel(\"Metoda\")\n",
    "plt.grid()\n",
    "plt.semilogy()\n",
    "plt.show()\n",
    "\n",
    "iterations = [1,jac_solve[1],gradienty[1],result_gmres[1]]\n",
    "plt.figure(figsize=(8, 6), dpi=60)\n",
    "plt.scatter(label,iterations)\n",
    "plt.title(\"Porównanie liczby iteracji dla danej metody\")\n",
    "plt.ylabel(\"Liczba iteracji\")\n",
    "plt.xlabel(\"Metoda\")\n",
    "plt.grid()\n",
    "plt.show()"
   ],
   "metadata": {
    "collapsed": false
   }
  },
  {
   "cell_type": "markdown",
   "source": [
    "WNIOSKI:\n",
    "Na dzisiejszych laboratoriach zapoznaliśmy się z iteracyjnymi metodami rozwiązywania układów równań liniowych. Naszym głownym zadaniem było znaczać czas wykonywania i dokoładność poszczególnych metod. Okazało sie, że najszybsza i najdokładniejsza jest funkcja solve z biblioteki numpy. Następna w kolejności jest metoda GMRES która jest trochę szybsza ale mniej dokładna. Co do metody Jacobiego i metody gradientów sprzężonych. Metoda Jacobiego działa poprawnie gdy dostanie macierz diagonelnie zdominowaną , a metoda gradientów sprzężonych działa poprawnie z macierzą dodatnio określoną.\n"
   ],
   "metadata": {
    "collapsed": false
   }
  },
  {
   "cell_type": "markdown",
   "metadata": {},
   "source": [
    "Materiały uzupełniające:\n",
    "- [Scipy Lecture Notes](http://www.scipy-lectures.org/index.html)\n",
    "- [NumPy for Matlab users](https://docs.scipy.org/doc/numpy/user/numpy-for-matlab-users.html#numpy-for-matlab-users)\n",
    "- [Python Tutorial - W3Schools](https://www.w3schools.com/python/default.asp)\n",
    "- [NumPy](https://www.numpy.org)\n",
    "- [Matplotlib](https://matplotlib.org/)\n",
    "- [Anaconda](https://www.anaconda.com/)\n",
    "- [Learn Python for Data Science](https://www.datacamp.com/learn-python-with-anaconda?utm_source=Anaconda_download&utm_campaign=datacamp_training&utm_medium=banner)\n",
    "- [Learn Python](https://www.learnpython.org/)\n",
    "- [Wujek Google](https://google.pl) i [Ciocia Wikipedia](https://pl.wikipedia.org/wiki/Wikipedia:Strona_g%C5%82%C3%B3wna)"
   ]
  }
 ],
 "metadata": {
  "kernelspec": {
   "display_name": "Python 3",
   "language": "python",
   "name": "python3"
  },
  "language_info": {
   "codemirror_mode": {
    "name": "ipython",
    "version": 3
   },
   "file_extension": ".py",
   "mimetype": "text/x-python",
   "name": "python",
   "nbconvert_exporter": "python",
   "pygments_lexer": "ipython3",
   "version": "3.8.6-final"
  }
 },
 "nbformat": 4,
 "nbformat_minor": 2
}
