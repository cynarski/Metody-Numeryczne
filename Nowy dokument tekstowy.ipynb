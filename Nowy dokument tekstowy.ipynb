{
 "cells": [
  {
   "cell_type": "code",
   "execution_count": 3,
   "metadata": {
    "collapsed": true
   },
   "outputs": [],
   "source": [
    "import numpy as np\n",
    "import scipy as sp\n",
    "from matplotlib import pyplot as plt"
   ]
  },
  {
   "cell_type": "markdown",
   "source": [
    "Zadanie 1\n"
   ],
   "metadata": {
    "collapsed": false
   }
  },
  {
   "cell_type": "code",
   "execution_count": null,
   "outputs": [],
   "source": [
    "#Błędne dane wejściowe"
   ],
   "metadata": {
    "collapsed": false
   }
  },
  {
   "cell_type": "markdown",
   "source": [
    "Zadanie 2"
   ],
   "metadata": {
    "collapsed": false
   }
  },
  {
   "cell_type": "code",
   "execution_count": 48,
   "outputs": [
    {
     "name": "stdout",
     "output_type": "stream",
     "text": [
      "-0.2007264995400222\n",
      "-0.20073\n"
     ]
    },
    {
     "data": {
      "text/plain": "<Figure size 640x480 with 1 Axes>",
      "image/png": "[encoded data removed]"
     },
     "metadata": {},
     "output_type": "display_data"
    }
   ],
   "source": [
    "f = lambda x: np.exp(8*x) + x\n",
    "x = np.linspace(-1, 0, 1000)\n",
    "plt.plot(x, f(x))\n",
    "plt.grid()\n",
    "sol = sp.optimize.fsolve(f, x0 = 0)\n",
    "print(sol[0])\n",
    "print(\"{:.5f}\".format(sol[0]))"
   ],
   "metadata": {
    "collapsed": false
   }
  },
  {
   "cell_type": "markdown",
   "source": [
    "Zadanie 3"
   ],
   "metadata": {
    "collapsed": false
   }
  },
  {
   "cell_type": "code",
   "execution_count": 37,
   "outputs": [
    {
     "name": "stdout",
     "output_type": "stream",
     "text": [
      "[[181 -18]\n",
      " [-18   4]]\n",
      "[182.81195934   2.18804066]\n",
      "2.1880406590577843\n",
      "2.18804\n"
     ]
    }
   ],
   "source": [
    "A = np.array([[181,-18],[-18,4]])\n",
    "print(A)\n",
    "res = np.linalg.eigvals(A)\n",
    "print(res)\n",
    "print(min(res))\n",
    "print(\"{:.5f}\".format(min(res)))"
   ],
   "metadata": {
    "collapsed": false
   }
  },
  {
   "cell_type": "markdown",
   "source": [
    "Zadanie 4"
   ],
   "metadata": {
    "collapsed": false
   }
  },
  {
   "cell_type": "code",
   "execution_count": 18,
   "outputs": [
    {
     "name": "stdout",
     "output_type": "stream",
     "text": [
      "0.00000000000000000000\n"
     ]
    }
   ],
   "source": [
    "A = 540750\n",
    "b = 0.25\n",
    "c = A + b - A\n",
    "print(\"{:.20f}\".format(c - b))"
   ],
   "metadata": {
    "collapsed": false
   }
  },
  {
   "cell_type": "markdown",
   "source": [
    "Zadanie 5"
   ],
   "metadata": {
    "collapsed": false
   }
  },
  {
   "cell_type": "code",
   "execution_count": 45,
   "outputs": [
    {
     "name": "stdout",
     "output_type": "stream",
     "text": [
      "-0.288\n",
      "-0.288145767121132\n"
     ]
    }
   ],
   "source": [
    "from scipy.interpolate import barycentric_interpolate\n",
    "\n",
    "def chebyshev_nodes(n)-> np.ndarray:\n",
    "    if isinstance(n, int) and n > 0:\n",
    "        nodes = []\n",
    "        for i in range(0, n+1):\n",
    "            nodes.append(float(np.cos((np.pi*i)/n)))\n",
    "        return np.array(nodes, dtype=float)\n",
    "\n",
    "fun = lambda x: -np.sin(x) + x ** 3\n",
    "nodes = chebyshev_nodes(28)\n",
    "y = fun(nodes)\n",
    "approx = barycentric_interpolate(nodes, y, 0.7174795775267394)\n",
    "print(\"{:.3f}\".format(approx))\n",
    "print(fun(0.7174795775267394))"
   ],
   "metadata": {
    "collapsed": false
   }
  },
  {
   "cell_type": "markdown",
   "source": [
    "Zadanie 6"
   ],
   "metadata": {
    "collapsed": false
   }
  },
  {
   "cell_type": "code",
   "execution_count": 12,
   "outputs": [
    {
     "name": "stdout",
     "output_type": "stream",
     "text": [
      "[[54 61 35  4]\n",
      " [ 1 11 15 93]]\n",
      "[35 78]\n",
      "1.4210854715202004e-14\n",
      "0.00000\n"
     ]
    }
   ],
   "source": [
    "A = np.array([[54,61,35,4],[1,11,15,93]])\n",
    "b = np.array([35,78])\n",
    "print(A)\n",
    "print(b)\n",
    "\n",
    "x = np.linalg.lstsq(A, b, rcond=None)[0]\n",
    "res = np.linalg.norm(b - A @ x)\n",
    "print(res)\n",
    "print(\"{:.5f}\".format(res))"
   ],
   "metadata": {
    "collapsed": false
   }
  },
  {
   "cell_type": "markdown",
   "source": [
    "Zadanie 7"
   ],
   "metadata": {
    "collapsed": false
   }
  },
  {
   "cell_type": "code",
   "execution_count": 32,
   "outputs": [
    {
     "name": "stdout",
     "output_type": "stream",
     "text": [
      "[[ -4  -8  -7]\n",
      " [ -9   8  -8]\n",
      " [-10   2   3]]\n",
      "[91 85 19]\n",
      "-4.6689655172413795\n",
      "-4.66897\n"
     ]
    }
   ],
   "source": [
    "A = np.array([[-4,-8,-7],[-9,8,-8],[-10,2,3]])\n",
    "b = np.array([91,85,19])\n",
    "print(A)\n",
    "print(b)\n",
    "L,U = sp.linalg.lu_factor(A)\n",
    "x = sp.linalg.lu_solve((L, U), b)\n",
    "print(x[0])\n",
    "print(\"{:.5f}\".format(x[0]))"
   ],
   "metadata": {
    "collapsed": false
   }
  },
  {
   "cell_type": "markdown",
   "source": [
    "Zadanie 8"
   ],
   "metadata": {
    "collapsed": false
   }
  },
  {
   "cell_type": "code",
   "execution_count": 13,
   "outputs": [
    {
     "name": "stdout",
     "output_type": "stream",
     "text": [
      "2417.3525946129994\n",
      "2417.35259\n"
     ]
    }
   ],
   "source": [
    "from scipy.integrate import trapz\n",
    "fun = lambda x: np.sqrt(x**3 + 1)\n",
    "x = np.linspace(41, 49, 560)\n",
    "y = fun(x)\n",
    "integral = trapz(y, x)\n",
    "print(integral)\n",
    "print(\"{:.5f}\".format(integral))"
   ],
   "metadata": {
    "collapsed": false
   }
  },
  {
   "cell_type": "markdown",
   "source": [
    "Zadanie 9"
   ],
   "metadata": {
    "collapsed": false
   }
  },
  {
   "cell_type": "code",
   "execution_count": 16,
   "outputs": [
    {
     "name": "stdout",
     "output_type": "stream",
     "text": [
      "[[1 2 7 6]\n",
      " [2 3 6 1]\n",
      " [7 1 5 6]]\n",
      "0.0\n",
      "[[-7.34846923 -2.04124145 -7.34846923 -6.80413817]\n",
      " [ 0.         -3.13581462 -7.01572085 -2.26770775]\n",
      " [ 0.          0.         -2.60377822 -4.64340449]]\n",
      "0.00000\n"
     ]
    }
   ],
   "source": [
    "A = np.array([[1,2,7,6],[2,3,6,1],[7,1,5,6]])\n",
    "print(A)\n",
    "Q, R = np.linalg.qr(A)\n",
    "print(R[2,0])\n",
    "print(R)\n",
    "print(\"{:.5f}\".format(R[2,0]))"
   ],
   "metadata": {
    "collapsed": false
   }
  },
  {
   "cell_type": "markdown",
   "source": [
    "Zadanie 10"
   ],
   "metadata": {
    "collapsed": false
   }
  },
  {
   "cell_type": "code",
   "execution_count": 7,
   "outputs": [
    {
     "name": "stdout",
     "output_type": "stream",
     "text": [
      "[-2.  4.]\n"
     ]
    }
   ],
   "source": [
    "A = np.array([[0,1],[8,2]])\n",
    "sol = np.linalg.eigvals(A)\n",
    "print(sol)"
   ],
   "metadata": {
    "collapsed": false
   }
  },
  {
   "cell_type": "markdown",
   "source": [
    "Zadanie 11"
   ],
   "metadata": {
    "collapsed": false
   }
  },
  {
   "cell_type": "code",
   "execution_count": 25,
   "outputs": [
    {
     "name": "stdout",
     "output_type": "stream",
     "text": [
      "(0.524867281894746, 3)\n",
      "Sprawdzenie: 4.198938255157968\n",
      "0.52487\n"
     ]
    }
   ],
   "source": [
    "import math\n",
    "print(math.frexp(4.198938255157968))\n",
    "x = math.frexp(4.198938255157968)[0]\n",
    "print(f\"Sprawdzenie: {0.524867281894746 * 2**3 }\")\n",
    "print(\"{:.5f}\".format(x))"
   ],
   "metadata": {
    "collapsed": false
   }
  },
  {
   "cell_type": "markdown",
   "source": [
    "Zadanie 12"
   ],
   "metadata": {
    "collapsed": false
   }
  },
  {
   "cell_type": "code",
   "execution_count": 36,
   "outputs": [
    {
     "name": "stdout",
     "output_type": "stream",
     "text": [
      "[[ 8  8]\n",
      " [-5  6]]\n",
      "1.4652497749839664\n",
      "1.46525\n"
     ]
    }
   ],
   "source": [
    "A = np.array([[8,8],[-5,6]])\n",
    "print(A)\n",
    "res = np.linalg.cond(A)\n",
    "print(res)\n",
    "print(\"{:.5f}\".format(res))"
   ],
   "metadata": {
    "collapsed": false
   }
  }
 ],
 "metadata": {
  "kernelspec": {
   "display_name": "Python 3",
   "language": "python",
   "name": "python3"
  },
  "language_info": {
   "codemirror_mode": {
    "name": "ipython",
    "version": 2
   },
   "file_extension": ".py",
   "mimetype": "text/x-python",
   "name": "python",
   "nbconvert_exporter": "python",
   "pygments_lexer": "ipython2",
   "version": "2.7.6"
  }
 },
 "nbformat": 4,
 "nbformat_minor": 0
}
