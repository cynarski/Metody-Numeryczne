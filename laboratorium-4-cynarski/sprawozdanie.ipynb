{
 "cells": [
  {
   "cell_type": "markdown",
   "metadata": {},
   "source": [
    "# <center>Rozwiązywanie układów równań</center>"
   ]
  },
  {
   "cell_type": "markdown",
   "metadata": {},
   "source": [
    "Instrukcja:\n",
    "Na zajęciach należy wykonać poniższe zadania, a następnie sporządzić sprawozdanie zawierające odpowiedzi (w postaci kodu) z komentarzami w środowisku Jupyter Notebook i umieścić je na platformie e-learningowej.   "
   ]
  },
  {
   "cell_type": "code",
   "execution_count": 2,
   "metadata": {},
   "outputs": [
    {
     "ename": "ModuleNotFoundError",
     "evalue": "No module named 'memory_profiler'",
     "output_type": "error",
     "traceback": [
      "\u001B[1;31m---------------------------------------------------------------------------\u001B[0m",
      "\u001B[1;31mModuleNotFoundError\u001B[0m                       Traceback (most recent call last)",
      "Cell \u001B[1;32mIn [2], line 8\u001B[0m\n\u001B[0;32m      5\u001B[0m \u001B[38;5;28;01mimport\u001B[39;00m \u001B[38;5;21;01mmatplotlib\u001B[39;00m\n\u001B[0;32m      6\u001B[0m \u001B[38;5;28;01mimport\u001B[39;00m \u001B[38;5;21;01mmatplotlib\u001B[39;00m\u001B[38;5;21;01m.\u001B[39;00m\u001B[38;5;21;01mpyplot\u001B[39;00m \u001B[38;5;28;01mas\u001B[39;00m \u001B[38;5;21;01mplt\u001B[39;00m\n\u001B[1;32m----> 8\u001B[0m \u001B[43mget_ipython\u001B[49m\u001B[43m(\u001B[49m\u001B[43m)\u001B[49m\u001B[38;5;241;43m.\u001B[39;49m\u001B[43mrun_line_magic\u001B[49m\u001B[43m(\u001B[49m\u001B[38;5;124;43m'\u001B[39;49m\u001B[38;5;124;43mload_ext\u001B[39;49m\u001B[38;5;124;43m'\u001B[39;49m\u001B[43m,\u001B[49m\u001B[43m \u001B[49m\u001B[38;5;124;43m'\u001B[39;49m\u001B[38;5;124;43mmemory_profiler\u001B[39;49m\u001B[38;5;124;43m'\u001B[39;49m\u001B[43m)\u001B[49m\n",
      "File \u001B[1;32mC:\\Program Files\\Python310\\lib\\site-packages\\IPython\\core\\interactiveshell.py:2309\u001B[0m, in \u001B[0;36mInteractiveShell.run_line_magic\u001B[1;34m(self, magic_name, line, _stack_depth)\u001B[0m\n\u001B[0;32m   2307\u001B[0m     kwargs[\u001B[38;5;124m'\u001B[39m\u001B[38;5;124mlocal_ns\u001B[39m\u001B[38;5;124m'\u001B[39m] \u001B[38;5;241m=\u001B[39m \u001B[38;5;28mself\u001B[39m\u001B[38;5;241m.\u001B[39mget_local_scope(stack_depth)\n\u001B[0;32m   2308\u001B[0m \u001B[38;5;28;01mwith\u001B[39;00m \u001B[38;5;28mself\u001B[39m\u001B[38;5;241m.\u001B[39mbuiltin_trap:\n\u001B[1;32m-> 2309\u001B[0m     result \u001B[38;5;241m=\u001B[39m fn(\u001B[38;5;241m*\u001B[39margs, \u001B[38;5;241m*\u001B[39m\u001B[38;5;241m*\u001B[39mkwargs)\n\u001B[0;32m   2310\u001B[0m \u001B[38;5;28;01mreturn\u001B[39;00m result\n",
      "File \u001B[1;32mC:\\Program Files\\Python310\\lib\\site-packages\\IPython\\core\\magics\\extension.py:33\u001B[0m, in \u001B[0;36mExtensionMagics.load_ext\u001B[1;34m(self, module_str)\u001B[0m\n\u001B[0;32m     31\u001B[0m \u001B[38;5;28;01mif\u001B[39;00m \u001B[38;5;129;01mnot\u001B[39;00m module_str:\n\u001B[0;32m     32\u001B[0m     \u001B[38;5;28;01mraise\u001B[39;00m UsageError(\u001B[38;5;124m'\u001B[39m\u001B[38;5;124mMissing module name.\u001B[39m\u001B[38;5;124m'\u001B[39m)\n\u001B[1;32m---> 33\u001B[0m res \u001B[38;5;241m=\u001B[39m \u001B[38;5;28;43mself\u001B[39;49m\u001B[38;5;241;43m.\u001B[39;49m\u001B[43mshell\u001B[49m\u001B[38;5;241;43m.\u001B[39;49m\u001B[43mextension_manager\u001B[49m\u001B[38;5;241;43m.\u001B[39;49m\u001B[43mload_extension\u001B[49m\u001B[43m(\u001B[49m\u001B[43mmodule_str\u001B[49m\u001B[43m)\u001B[49m\n\u001B[0;32m     35\u001B[0m \u001B[38;5;28;01mif\u001B[39;00m res \u001B[38;5;241m==\u001B[39m \u001B[38;5;124m'\u001B[39m\u001B[38;5;124malready loaded\u001B[39m\u001B[38;5;124m'\u001B[39m:\n\u001B[0;32m     36\u001B[0m     \u001B[38;5;28mprint\u001B[39m(\u001B[38;5;124m\"\u001B[39m\u001B[38;5;124mThe \u001B[39m\u001B[38;5;132;01m%s\u001B[39;00m\u001B[38;5;124m extension is already loaded. To reload it, use:\u001B[39m\u001B[38;5;124m\"\u001B[39m \u001B[38;5;241m%\u001B[39m module_str)\n",
      "File \u001B[1;32mC:\\Program Files\\Python310\\lib\\site-packages\\IPython\\core\\extensions.py:76\u001B[0m, in \u001B[0;36mExtensionManager.load_extension\u001B[1;34m(self, module_str)\u001B[0m\n\u001B[0;32m     69\u001B[0m \u001B[38;5;124;03m\"\"\"Load an IPython extension by its module name.\u001B[39;00m\n\u001B[0;32m     70\u001B[0m \n\u001B[0;32m     71\u001B[0m \u001B[38;5;124;03mReturns the string \"already loaded\" if the extension is already loaded,\u001B[39;00m\n\u001B[0;32m     72\u001B[0m \u001B[38;5;124;03m\"no load function\" if the module doesn't have a load_ipython_extension\u001B[39;00m\n\u001B[0;32m     73\u001B[0m \u001B[38;5;124;03mfunction, or None if it succeeded.\u001B[39;00m\n\u001B[0;32m     74\u001B[0m \u001B[38;5;124;03m\"\"\"\u001B[39;00m\n\u001B[0;32m     75\u001B[0m \u001B[38;5;28;01mtry\u001B[39;00m:\n\u001B[1;32m---> 76\u001B[0m     \u001B[38;5;28;01mreturn\u001B[39;00m \u001B[38;5;28;43mself\u001B[39;49m\u001B[38;5;241;43m.\u001B[39;49m\u001B[43m_load_extension\u001B[49m\u001B[43m(\u001B[49m\u001B[43mmodule_str\u001B[49m\u001B[43m)\u001B[49m\n\u001B[0;32m     77\u001B[0m \u001B[38;5;28;01mexcept\u001B[39;00m \u001B[38;5;167;01mModuleNotFoundError\u001B[39;00m:\n\u001B[0;32m     78\u001B[0m     \u001B[38;5;28;01mif\u001B[39;00m module_str \u001B[38;5;129;01min\u001B[39;00m BUILTINS_EXTS:\n",
      "File \u001B[1;32mC:\\Program Files\\Python310\\lib\\site-packages\\IPython\\core\\extensions.py:92\u001B[0m, in \u001B[0;36mExtensionManager._load_extension\u001B[1;34m(self, module_str)\u001B[0m\n\u001B[0;32m     90\u001B[0m \u001B[38;5;28;01mif\u001B[39;00m module_str \u001B[38;5;129;01mnot\u001B[39;00m \u001B[38;5;129;01min\u001B[39;00m sys\u001B[38;5;241m.\u001B[39mmodules:\n\u001B[0;32m     91\u001B[0m     \u001B[38;5;28;01mwith\u001B[39;00m prepended_to_syspath(\u001B[38;5;28mself\u001B[39m\u001B[38;5;241m.\u001B[39mipython_extension_dir):\n\u001B[1;32m---> 92\u001B[0m         mod \u001B[38;5;241m=\u001B[39m \u001B[43mimport_module\u001B[49m\u001B[43m(\u001B[49m\u001B[43mmodule_str\u001B[49m\u001B[43m)\u001B[49m\n\u001B[0;32m     93\u001B[0m         \u001B[38;5;28;01mif\u001B[39;00m mod\u001B[38;5;241m.\u001B[39m\u001B[38;5;18m__file__\u001B[39m\u001B[38;5;241m.\u001B[39mstartswith(\u001B[38;5;28mself\u001B[39m\u001B[38;5;241m.\u001B[39mipython_extension_dir):\n\u001B[0;32m     94\u001B[0m             \u001B[38;5;28mprint\u001B[39m((\u001B[38;5;124m\"\u001B[39m\u001B[38;5;124mLoading extensions from \u001B[39m\u001B[38;5;132;01m{dir}\u001B[39;00m\u001B[38;5;124m is deprecated. \u001B[39m\u001B[38;5;124m\"\u001B[39m\n\u001B[0;32m     95\u001B[0m                    \u001B[38;5;124m\"\u001B[39m\u001B[38;5;124mWe recommend managing extensions like any \u001B[39m\u001B[38;5;124m\"\u001B[39m\n\u001B[0;32m     96\u001B[0m                    \u001B[38;5;124m\"\u001B[39m\u001B[38;5;124mother Python packages, in site-packages.\u001B[39m\u001B[38;5;124m\"\u001B[39m)\u001B[38;5;241m.\u001B[39mformat(\n\u001B[0;32m     97\u001B[0m                   \u001B[38;5;28mdir\u001B[39m\u001B[38;5;241m=\u001B[39mcompress_user(\u001B[38;5;28mself\u001B[39m\u001B[38;5;241m.\u001B[39mipython_extension_dir)))\n",
      "File \u001B[1;32mC:\\Program Files\\Python310\\lib\\importlib\\__init__.py:126\u001B[0m, in \u001B[0;36mimport_module\u001B[1;34m(name, package)\u001B[0m\n\u001B[0;32m    124\u001B[0m             \u001B[38;5;28;01mbreak\u001B[39;00m\n\u001B[0;32m    125\u001B[0m         level \u001B[38;5;241m+\u001B[39m\u001B[38;5;241m=\u001B[39m \u001B[38;5;241m1\u001B[39m\n\u001B[1;32m--> 126\u001B[0m \u001B[38;5;28;01mreturn\u001B[39;00m \u001B[43m_bootstrap\u001B[49m\u001B[38;5;241;43m.\u001B[39;49m\u001B[43m_gcd_import\u001B[49m\u001B[43m(\u001B[49m\u001B[43mname\u001B[49m\u001B[43m[\u001B[49m\u001B[43mlevel\u001B[49m\u001B[43m:\u001B[49m\u001B[43m]\u001B[49m\u001B[43m,\u001B[49m\u001B[43m \u001B[49m\u001B[43mpackage\u001B[49m\u001B[43m,\u001B[49m\u001B[43m \u001B[49m\u001B[43mlevel\u001B[49m\u001B[43m)\u001B[49m\n",
      "File \u001B[1;32m<frozen importlib._bootstrap>:1050\u001B[0m, in \u001B[0;36m_gcd_import\u001B[1;34m(name, package, level)\u001B[0m\n",
      "File \u001B[1;32m<frozen importlib._bootstrap>:1027\u001B[0m, in \u001B[0;36m_find_and_load\u001B[1;34m(name, import_)\u001B[0m\n",
      "File \u001B[1;32m<frozen importlib._bootstrap>:1004\u001B[0m, in \u001B[0;36m_find_and_load_unlocked\u001B[1;34m(name, import_)\u001B[0m\n",
      "\u001B[1;31mModuleNotFoundError\u001B[0m: No module named 'memory_profiler'"
     ]
    }
   ],
   "source": [
    "import main\n",
    "\n",
    "import numpy as np\n",
    "import scipy \n",
    "import matplotlib\n",
    "import matplotlib.pyplot as plt\n",
    "\n",
    "%load_ext memory_profiler"
   ]
  },
  {
   "cell_type": "markdown",
   "metadata": {},
   "source": [
    "**Cel zajęć:** Celem zajęć jest zapoznanie się z numerycznymi metodami rozwiązywania układów równań liniowych. To podstawowe zadanie algebry liniowej które macierzowo możemy zapisać jako:  \n",
    "  \n",
    "$\n",
    "\\mathbf{Ax}=\\mathbf{b}\n",
    "$ \n",
    "  \n",
    "gdzie $\\mathbf{A}$ - macierz współczynników, $\\mathbf{x}$ - wektor zmiennych a $\\mathbf{b}$ - wektor wyników prawej strony równania.  \n",
    "\n",
    "Do oceny jakości rozwiązania będziemy wykorzystywać residuum (ang. *residual*)\n",
    "$\n",
    "\\mathbf{r}=\\mathbf{b}-\\mathbf{Ax}\n",
    "$ \n",
    "  "
   ]
  },
  {
   "cell_type": "markdown",
   "metadata": {},
   "source": [
    "**Zadanie Domowe **   \n",
    " \n",
    "1. Zaimplementuj funkcje *random\\_matrix\\_Ab* według opisu w pliku main.py generującą macierz kwadratową $\\mathbf{A}$ i wektor $\\mathbf{b}$ o zadanych wymiarach odpowiednio $m\\times m$, $m\\times 1$ i o wartościach losowych. W tym celu skorzystaj z funkcji *[randint](https://docs.scipy.org/doc/numpy-1.15.1/reference/generated/numpy.random.randint.html)*. W razie podania nieprawidłowej wartości m funkcja ma zwrócić wartość None.\n",
    "\n",
    "2. Wygeneruj takie macierze dla $m=10,\\ 20,\\ 50,\\ 100,\\ 1000$. \n",
    "\n",
    "3. Zaimplementuj normę residual_norm zgodnie z opisem z main.py (używając *[norm](https://docs.scipy.org/doc/numpy-1.15.1/reference/generated/numpy.linalg.norm.html?highlight=norm#numpy.linalg.norm)*) \n"
   ]
  },
  {
   "cell_type": "code",
   "execution_count": 3,
   "outputs": [],
   "source": [
    "A1 = main.random_matrix_Ab(10)\n",
    "A2 = main.random_matrix_Ab(20)\n",
    "A3 = main.random_matrix_Ab(50)\n",
    "A4 = main.random_matrix_Ab(100)\n",
    "A5 = main.random_matrix_Ab(1000)\n",
    "\n",
    "\n"
   ],
   "metadata": {
    "collapsed": false
   }
  },
  {
   "cell_type": "markdown",
   "metadata": {},
   "source": [
    "***Zadanie 1***   \n",
    " \n",
    "1. Dla macierzy i wektorów wygenerowanych w poprzednim zadaniu znajdź rozwiązanie układu równań $\\mathbf{Ax}=\\mathbf{b}$ używając funkcji *[solve](https://docs.scipy.org/doc/numpy-1.15.1/reference/generated/numpy.linalg.solve.html?highlight=solve#numpy.linalg.solve)*. \n",
    "\n",
    "2. Sprawdź dokładność otrzymanego rozwiązania (oblicz normę residuum).\n",
    "\n",
    "3. Określ uwarunkowanie macierzy $\\mathbf{A}$ przy pomocy funkcji *[cond](https://docs.scipy.org/doc/numpy-1.15.1/reference/generated/numpy.linalg.cond.html?highlight=cond#numpy.linalg.cond)*. \n",
    "\n",
    "4. Odpowiedź na pytanie czy zakres wartości oraz wymiary macierzy mają wpływ na jakość otrzymanych wyników? \n",
    "\n",
    "5. Zbadać czas wykonania obliczeń przy pomocy funkcji *timeint*\n"
   ]
  },
  {
   "cell_type": "code",
   "execution_count": 4,
   "outputs": [
    {
     "name": "stdout",
     "output_type": "stream",
     "text": [
      "Norma residuum:  4.2585168284209933e-13\n",
      "7.741981830734082e-13\n",
      "8.459410399206743e-12\n",
      "1.791160842663494e-11\n",
      "2.4606062501012927e-09\n",
      "\n",
      "Uwarunkowanie macierzy A1 wynosi:  94.51093606424222\n",
      "Uwarunkowanie macierzy A2 wynosi:  200.1937787297785\n",
      "Uwarunkowanie macierzy A3 wynosi:  2275.970323529073\n",
      "Uwarunkowanie macierzy A4 wynosi:  4990.484058159074\n",
      "Uwarunkowanie macierzy A5 wynosi:  51063.32101572727\n",
      "\n",
      "7.95 µs ± 1.82 µs per loop (mean ± std. dev. of 5 runs, 10 loops each)\n",
      "67.1 µs ± 7.83 µs per loop (mean ± std. dev. of 5 runs, 10 loops each)\n",
      "325 µs ± 66.8 µs per loop (mean ± std. dev. of 5 runs, 10 loops each)\n",
      "The slowest run took 7.84 times longer than the fastest. This could mean that an intermediate result is being cached.\n",
      "1.71 ms ± 1.86 ms per loop (mean ± std. dev. of 5 runs, 10 loops each)\n",
      "The slowest run took 6.60 times longer than the fastest. This could mean that an intermediate result is being cached.\n",
      "41.4 ms ± 35.3 ms per loop (mean ± std. dev. of 5 runs, 10 loops each)\n"
     ]
    }
   ],
   "source": [
    "#1\n",
    "result_A1 = np.linalg.solve(A1[0],A1[1])\n",
    "result_A2 = np.linalg.solve(A2[0],A2[1])\n",
    "result_A3 = np.linalg.solve(A3[0],A3[1])\n",
    "result_A4 = np.linalg.solve(A4[0],A4[1])\n",
    "result_A5 = np.linalg.solve(A5[0],A5[1])\n",
    "\n",
    "#2\n",
    "print('Norma residuum: ',main.residual_norm(A1[0],result_A1,A1[1]))\n",
    "print(main.residual_norm(A2[0],result_A2,A2[1]))\n",
    "print(main.residual_norm(A3[0],result_A3,A3[1]))\n",
    "print(main.residual_norm(A4[0],result_A4,A4[1]))\n",
    "print(main.residual_norm(A5[0],result_A5,A5[1]))\n",
    "print()\n",
    "#3\n",
    "print('Uwarunkowanie macierzy A1 wynosi: ',np.linalg.cond(A1[0]))\n",
    "print('Uwarunkowanie macierzy A2 wynosi: ',np.linalg.cond(A2[0]))\n",
    "print('Uwarunkowanie macierzy A3 wynosi: ',np.linalg.cond(A3[0]))\n",
    "print('Uwarunkowanie macierzy A4 wynosi: ',np.linalg.cond(A4[0]))\n",
    "print('Uwarunkowanie macierzy A5 wynosi: ',np.linalg.cond(A5[0]))\n",
    "\n",
    "#4 Nie mają wpływu\n",
    "print()\n",
    "#5\n",
    "saved_timing = %timeit -r 5 -n 10 -o np.linalg.solve(A1[0],A1[1])\n",
    "saved_timing = %timeit -r 5 -n 10 -o np.linalg.solve(A2[0],A2[1])\n",
    "saved_timing = %timeit -r 5 -n 10 -o np.linalg.solve(A3[0],A3[1])\n",
    "saved_timing = %timeit -r 5 -n 10 -o np.linalg.solve(A4[0],A4[1])\n",
    "saved_timing = %timeit -r 5 -n 10 -o np.linalg.solve(A5[0],A5[1])"
   ],
   "metadata": {
    "collapsed": false
   }
  },
  {
   "cell_type": "markdown",
   "metadata": {},
   "source": [
    "***Zadanie 2***  \n",
    "Rozkład dowolnej macierzy metodą  *[dekompozycji na wartości singularne](https://pl.wikipedia.org/wiki/Rozk%C5%82ad_wed%C5%82ug_warto%C5%9Bci_osobliwych)* można w Pythonie przeprowadzić przy pomocy funkcji *[svd](https://docs.scipy.org/doc/numpy-1.15.1/reference/generated/numpy.linalg.svd.html)*. Rozkład dla przykładowej macierzy obrazuje kod: "
   ]
  },
  {
   "cell_type": "code",
   "execution_count": null,
   "metadata": {},
   "outputs": [],
   "source": [
    "import numpy as np\n",
    "import numpy.linalg as nplin\n",
    "\n",
    "A = np.array([[1,2,3],[1,2,3],[1,2,3]])\n",
    "\n",
    "# Użycie rozkładu SVD na macierzy A\n",
    "U,S,V = nplin.svd(A)\n",
    "\n",
    "print(S)\n",
    "# Odtworzenie macierzy A przy pomocy metody SVD\n",
    "A2 = np.dot(U * S, V)\n",
    " \n",
    "print(\"Macierz A:\\n {0}\".format(A))\n",
    "print(\"Macierz odtworzona z SVD:\\n {0}\".format(A2))"
   ]
  },
  {
   "cell_type": "markdown",
   "metadata": {},
   "source": [
    "Wykonaj następujące kroki:\n",
    "\n",
    "1. Zdefiniuj funkcję inicjalizujące wektory *wartości singularnych* w następujący sposób:\n"
   ]
  },
  {
   "cell_type": "markdown",
   "metadata": {},
   "source": [
    "- wektor nierosnących wartości singularnych w postaci wektora przestrzeni logarytmicznej, np:"
   ]
  },
  {
   "cell_type": "code",
   "execution_count": null,
   "metadata": {},
   "outputs": [],
   "source": [
    "S1 = np.logspace(100, 1, num=3)"
   ]
  },
  {
   "cell_type": "markdown",
   "metadata": {},
   "source": [
    "- wektor nierosnących wartości singularnych, gdzie jedna wartość jest znacznie większa od pozostałych, np.:"
   ]
  },
  {
   "cell_type": "code",
   "execution_count": null,
   "metadata": {},
   "outputs": [],
   "source": [
    "S2 = np.logspace(100, 1, num=3)\n",
    "S2[0] = S2[0]+100"
   ]
  },
  {
   "cell_type": "markdown",
   "metadata": {},
   "source": [
    "- wektor nierosnących wartości, gdzie jedna wartość jest znacznie mniejsza od pozostałych. "
   ]
  },
  {
   "cell_type": "code",
   "execution_count": null,
   "metadata": {},
   "outputs": [],
   "source": [
    "S3 = np.logspace(100, 1, num=3)\n",
    "S3[-1] = S3[0]-100"
   ]
  },
  {
   "cell_type": "markdown",
   "metadata": {},
   "source": [
    "\n",
    "\n",
    "W celu inicjalizacji takich wektorów zaimplementuje funkcje:  \n",
    "    - *log\\_sing\\_value* zgodnie z opisem w main.py i użyciu funkcji *[logspace](https://docs.scipy.org/doc/numpy-1.15.1/reference/generated/numpy.logspace.html?highlight=logspace#numpy.logspace)*\n",
    "    - *order\\_sing\\_value* zgodnie z opisem w main.py\n",
    "\n",
    "2. Zdefiniuj funkcję *create_matrix_from_A* z pliku main, która dla zadanej macierzy A z *zadania 1* i wektorów warości singularnych z punktu 1. tego zadania będzie zwracać odtworzoną macierz z podmienionym wektorem warości singularnych przy pomocy metody SVD, jak w przykładzie:\n",
    " "
   ]
  },
  {
   "cell_type": "code",
   "execution_count": null,
   "metadata": {},
   "outputs": [],
   "source": [
    "A = np.array([[1,2,3],[1,2,3],[1,2,3]])\n",
    "U,S,V = nplin.svd(A)\n",
    "\n",
    "A1 = np.dot(U * S1, V)\n",
    "A2 = np.dot(U * S2, V)\n",
    "A3 = np.dot(U * S3, V)\n",
    "print('Macierz pierwotna:')\n",
    "print(A)\n",
    "\n",
    "print('Macierz na podstawie wartości S1:')\n",
    "print(A1)\n",
    "\n",
    "print('Macierz na podstawie wartości S2:')\n",
    "print(A2)\n",
    "\n",
    "print('Macierz na podstawie wartości S3:')\n",
    "print(A3)"
   ]
  },
  {
   "cell_type": "markdown",
   "metadata": {},
   "source": [
    "\n",
    "\n",
    "3. Dla otrzymanych macierzy oblicz wartości współczynnika uwarunkowania. \n",
    "\n",
    "4. Odpowiedz na pytanie: czy konieczne jest wyliczanie macierzy aby to zrobić?\n",
    "\n",
    "5. Dla każdego $m$ sporządź wykres normy residuów rozwiązań i funkcji uwarunkowania macierzy. \n",
    "\n",
    "\n"
   ]
  },
  {
   "cell_type": "markdown",
   "metadata": {},
   "source": [
    "Materiały uzupełniające:\n",
    "- [Scipy Lecture Notes](http://www.scipy-lectures.org/index.html)\n",
    "- [NumPy for Matlab users](https://docs.scipy.org/doc/numpy/user/numpy-for-matlab-users.html#numpy-for-matlab-users)\n",
    "- [Python Tutorial - W3Schools](https://www.w3schools.com/python/default.asp)\n",
    "- [NumPy](https://www.numpy.org)\n",
    "- [Matplotlib](https://matplotlib.org/)\n",
    "- [Anaconda](https://www.anaconda.com/)\n",
    "- [Learn Python for Data Science](https://www.datacamp.com/learn-python-with-anaconda?utm_source=Anaconda_download&utm_campaign=datacamp_training&utm_medium=banner)\n",
    "- [Learn Python](https://www.learnpython.org/)\n",
    "- [Wujek Google](https://google.pl) i [Ciocia Wikipedia](https://pl.wikipedia.org/wiki/Wikipedia:Strona_g%C5%82%C3%B3wna)"
   ]
  }
 ],
 "metadata": {
  "kernelspec": {
   "display_name": "Python 3.9.10 64-bit",
   "language": "python",
   "name": "python3"
  },
  "language_info": {
   "codemirror_mode": {
    "name": "ipython",
    "version": 3
   },
   "file_extension": ".py",
   "mimetype": "text/x-python",
   "name": "python",
   "nbconvert_exporter": "python",
   "pygments_lexer": "ipython3",
   "version": "3.9.10"
  },
  "vscode": {
   "interpreter": {
    "hash": "aee8b7b246df8f9039afb4144a1f6fd8d2ca17a180786b69acc140d282b71a49"
   }
  }
 },
 "nbformat": 4,
 "nbformat_minor": 2
}
